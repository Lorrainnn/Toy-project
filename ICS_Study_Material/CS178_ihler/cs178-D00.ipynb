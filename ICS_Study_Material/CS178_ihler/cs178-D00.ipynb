{
 "cells": [
  {
   "cell_type": "markdown",
   "id": "2d5e6532",
   "metadata": {
    "id": "YAgei3DPRfqT"
   },
   "source": [
    "### CS 178: Machine Learning &amp; Data Mining\n",
    "\n",
    "# Discussion, Week 0"
   ]
  },
  {
   "cell_type": "markdown",
   "id": "7a75d661",
   "metadata": {
    "id": "SXtugC92RfqX"
   },
   "source": [
    "---\n",
    "## Part 1 : Setting up Your Conda Environment"
   ]
  },
  {
   "cell_type": "markdown",
   "id": "0b2472b0",
   "metadata": {
    "id": "PIPpmY9URfqY"
   },
   "source": [
    "### What is Conda?\n",
    "\n",
    "[Conda](https://docs.conda.io/en/latest/#) is an open-source package and environment manager for Python. Using Conda, we can easily install, update, or remove various Python packages. One of the key features of Conda is that it lets us create separate environments, which allows us to install different packages (or even different versions of the same package) for different projects. For example, if we are working on a project which requires Python 2.7 and we're also working on a separate project which requires Python 3.10, we can maintain a separate Conda environment for each project in order to easily switch between the two.\n",
    "\n",
    "If you have used Python before, you've probably used pip to install packages. For a comparision between pip and Conda, check out [this blog post](https://www.anaconda.com/blog/understanding-conda-and-pip).\n",
    "\n",
    "### Installing Python and Conda via Miniconda\n",
    "In this tutorial, we wil use [Miniconda](https://docs.conda.io/en/latest/miniconda.html) to install Python and Conda. \n",
    "1. Download the correct installer for your system [here](https://docs.conda.io/en/latest/miniconda.html#latest-miniconda-installer-links), and follow the instructions to install Miniconda. \n",
    "\n",
    "There is also [Anaconda](https://www.anaconda.com/), which is a distribution of Conda that comes with many popular data science packages in addition to Conda. It doesn't matter too much which one you use (see [here](https://docs.conda.io/projects/conda/en/latest/user-guide/install/download.html#anaconda-or-miniconda) for some guidelines), but in this tutorial we'll be using Miniconda."
   ]
  },
  {
   "cell_type": "markdown",
   "id": "fc4ee58a",
   "metadata": {
    "id": "4tzOkTsqRfqb"
   },
   "source": [
    "###  Creating a Conda Environment\n",
    "\n",
    "Once you've installed Conda, open up a terminal (on Linux / Mac) or the Anaconda Prompt (on Windows). We'll now set up an environment for CS178 and install some necessary packages.\n",
    "\n",
    "1. Let's first verify that conda is installed correctly. In your terminal, run the command `conda --version` and verify that the output is something like `conda 4.14.0`.\n",
    "2. Now, we'll create a new Conda environment named `cs178` with the latest version of Python (3.10). To do this, run the command `conda create --name cs178 python=3.10`. If you ever forget the name of an environment you've created, you can list all of your environments with `conda --info envs`.\n",
    "3. To use our new environment, we must first activate it with `conda activate cs178`. The name of the active environment should now be displayed in front of your prompt in parentheses. An environment can be deactivated using `conda deactivate`.\n",
    "4. Let's install some packages in our `cs178` environment. First, run the command \n",
    "  `conda config --env --add channels conda-forge`. \n",
    "This command tells Conda to search [Conda Forge](https://conda-forge.org/docs/user/introduction.html) for packages. Next, Run the following command to install some packages: `\n",
    "conda install matplotlib pandas jupyterlab`.\n",
    "5. Now, run `conda install 'scikit-learn>=1.1'`. This will install the package `scikit-learn`, with the version being at least 1.1. Having an up-to-date version of `scikit-learn` is important for Homework 1. \n",
    "6. You can use the command `conda list` to show all of the packages installed in your environment -- if everything has worked so far, you should see the packages we installed (scikit-learn, pandas, ...) plus their (many) dependencies.\n",
    "\n",
    "Congratulations! You've now set up your Conda environment with all of the necessary packages to complete the assignments in CS178. In the next section, we'll tinker around with some of the packages we've installed to better familiarize ourselves with our new tools.\n",
    "\n",
    "### Additional Resources\n",
    "Note that we've only covered the bare essentials of Conda. If you'd like to read more, here are some resources:\n",
    "- [Conda User Guide](https://conda.io/projects/conda/en/latest/user-guide/index.html)\n",
    "- [Conda Cheat Sheet](https://docs.conda.io/projects/conda/en/latest/user-guide/cheatsheet.html)\n",
    "- [Conda vs Pip](https://www.anaconda.com/blog/understanding-conda-and-pip)\n"
   ]
  },
  {
   "cell_type": "markdown",
   "id": "087052f4",
   "metadata": {
    "id": "NN1_OjY9Rfqd"
   },
   "source": [
    "<center> <img src=\"http://sli.ics.uci.edu/extras/sep.png\" alt=\"--------------------------------------------\" width=\"200px\" height=\"20px\" style=\"width:200px;height:20px;\"/> </center>\n",
    "\n",
    "## Part 2: Jupyter Notebooks and Numpy"
   ]
  },
  {
   "cell_type": "markdown",
   "id": "0d88b1e6",
   "metadata": {
    "id": "PrWtm34CRfqe"
   },
   "source": [
    "### Jupyter Notebooks\n",
    "\n",
    "In the previous section, we installed a package called `jupyterlab`. This package lets us use **Jupyter Notebooks**. A notebook is a web-browser based tool that combines code, text, equations, and much more into a single document. Let's create a notebook and get a feel for how these work.\n",
    "\n",
    "1. In your terminal, `cd` into the directory where you'd like to create your notebooks, and run `jupyter notebook`. This should automatically open a tab in your browser. From here, we can create a new blank notebook (under \"new\"). Make sure you have our `cs178` environment active!\n",
    "\n",
    "A notebook consists of many **cells**. Each cell can either contain Markdown (like this cell!) or code. In Markdown cells, we can use standard [Markdown syntax](https://www.markdownguide.org/cheat-sheet/) -- for example, we can make text **bold**, *italics*, make lists, write `code`, etc. \n",
    "\n",
    "Markdown cells additionally support mathematical equations via LaTeX. For example, inline math can be written by wrapping LaTeX code in`$[...]$` and display-mode math can be written by wrapping LaTex code in `$$[...]$$`. For example, here's some inline math: $a^2 + b^2 = c^2$, and here's some display-mode math: $$\\int x^2 d x = \\frac{1}{3} x^3 + C.$$ If you'd like to learn more about LaTeX, check out this [short tutorial](https://www.overleaf.com/learn/latex/Learn_LaTeX_in_30_minutes). **LaTeX is a very useful tool for typesetting math equations, but using LaTeX isn't a requirement in this course.**\n",
    "\n",
    "In code cells, we can type Python code as usual. We can also execute individual cells in order to run the code they contain."
   ]
  },
  {
   "cell_type": "code",
   "execution_count": 1,
   "id": "38a2a3db",
   "metadata": {
    "colab": {
     "base_uri": "https://localhost:8080/"
    },
    "executionInfo": {
     "elapsed": 8,
     "status": "ok",
     "timestamp": 1673565459501,
     "user": {
      "displayName": "Alexander Thomas Ihler",
      "userId": "06127274894773240686"
     },
     "user_tz": 480
    },
    "id": "D436P3TSRfqg",
    "outputId": "bc6c3d7b-356b-4424-eee7-ace89d1a7e1d"
   },
   "outputs": [
    {
     "name": "stdout",
     "output_type": "stream",
     "text": [
      "8\n"
     ]
    }
   ],
   "source": [
    "a = 3\n",
    "b = 5\n",
    "c = a + b\n",
    "print(c)"
   ]
  },
  {
   "cell_type": "markdown",
   "id": "5177809f",
   "metadata": {
    "id": "4y7QvlFERfqh"
   },
   "source": [
    "### Numpy Arrays\n",
    "\n",
    "Let's now familiarize ourselves a little bit with Python and Numpy. We start by importing some packages that we'll be using."
   ]
  },
  {
   "cell_type": "code",
   "execution_count": 7,
   "id": "eb38590f",
   "metadata": {
    "id": "7sIL8pYTRfqi"
   },
   "outputs": [],
   "source": [
    "import numpy as np\n",
    "from sklearn.datasets import load_iris"
   ]
  },
  {
   "cell_type": "markdown",
   "id": "fb16c037",
   "metadata": {
    "id": "k6nkrUdfRfqk"
   },
   "source": [
    "First, we'll load in the Iris dataset and store the features in a numpy array `X` and the labels in the numpy array `y`."
   ]
  },
  {
   "cell_type": "code",
   "execution_count": 9,
   "id": "84ca5582",
   "metadata": {
    "id": "tEdZwLfaRfql"
   },
   "outputs": [],
   "source": [
    "iris = load_iris()\n",
    "X = iris.data\n",
    "y = iris.target"
   ]
  },
  {
   "cell_type": "markdown",
   "id": "d554367e",
   "metadata": {
    "id": "0DOxPgFaRfqn"
   },
   "source": [
    "#### Printing \n",
    "We can print `X` and `y` to see their contents."
   ]
  },
  {
   "cell_type": "code",
   "execution_count": 11,
   "id": "6257eecf",
   "metadata": {
    "colab": {
     "base_uri": "https://localhost:8080/"
    },
    "executionInfo": {
     "elapsed": 173,
     "status": "ok",
     "timestamp": 1673565471457,
     "user": {
      "displayName": "Alexander Thomas Ihler",
      "userId": "06127274894773240686"
     },
     "user_tz": 480
    },
    "id": "BuAGfZ8GRfqo",
    "outputId": "75d84bc5-3160-452f-e298-c70b59134f6e"
   },
   "outputs": [
    {
     "data": {
      "text/plain": [
       "array([[5.1, 3.5, 1.4, 0.2],\n",
       "       [4.9, 3. , 1.4, 0.2],\n",
       "       [4.7, 3.2, 1.3, 0.2],\n",
       "       [4.6, 3.1, 1.5, 0.2],\n",
       "       [5. , 3.6, 1.4, 0.2],\n",
       "       [5.4, 3.9, 1.7, 0.4],\n",
       "       [4.6, 3.4, 1.4, 0.3],\n",
       "       [5. , 3.4, 1.5, 0.2],\n",
       "       [4.4, 2.9, 1.4, 0.2],\n",
       "       [4.9, 3.1, 1.5, 0.1],\n",
       "       [5.4, 3.7, 1.5, 0.2],\n",
       "       [4.8, 3.4, 1.6, 0.2],\n",
       "       [4.8, 3. , 1.4, 0.1],\n",
       "       [4.3, 3. , 1.1, 0.1],\n",
       "       [5.8, 4. , 1.2, 0.2],\n",
       "       [5.7, 4.4, 1.5, 0.4],\n",
       "       [5.4, 3.9, 1.3, 0.4],\n",
       "       [5.1, 3.5, 1.4, 0.3],\n",
       "       [5.7, 3.8, 1.7, 0.3],\n",
       "       [5.1, 3.8, 1.5, 0.3],\n",
       "       [5.4, 3.4, 1.7, 0.2],\n",
       "       [5.1, 3.7, 1.5, 0.4],\n",
       "       [4.6, 3.6, 1. , 0.2],\n",
       "       [5.1, 3.3, 1.7, 0.5],\n",
       "       [4.8, 3.4, 1.9, 0.2],\n",
       "       [5. , 3. , 1.6, 0.2],\n",
       "       [5. , 3.4, 1.6, 0.4],\n",
       "       [5.2, 3.5, 1.5, 0.2],\n",
       "       [5.2, 3.4, 1.4, 0.2],\n",
       "       [4.7, 3.2, 1.6, 0.2],\n",
       "       [4.8, 3.1, 1.6, 0.2],\n",
       "       [5.4, 3.4, 1.5, 0.4],\n",
       "       [5.2, 4.1, 1.5, 0.1],\n",
       "       [5.5, 4.2, 1.4, 0.2],\n",
       "       [4.9, 3.1, 1.5, 0.2],\n",
       "       [5. , 3.2, 1.2, 0.2],\n",
       "       [5.5, 3.5, 1.3, 0.2],\n",
       "       [4.9, 3.6, 1.4, 0.1],\n",
       "       [4.4, 3. , 1.3, 0.2],\n",
       "       [5.1, 3.4, 1.5, 0.2],\n",
       "       [5. , 3.5, 1.3, 0.3],\n",
       "       [4.5, 2.3, 1.3, 0.3],\n",
       "       [4.4, 3.2, 1.3, 0.2],\n",
       "       [5. , 3.5, 1.6, 0.6],\n",
       "       [5.1, 3.8, 1.9, 0.4],\n",
       "       [4.8, 3. , 1.4, 0.3],\n",
       "       [5.1, 3.8, 1.6, 0.2],\n",
       "       [4.6, 3.2, 1.4, 0.2],\n",
       "       [5.3, 3.7, 1.5, 0.2],\n",
       "       [5. , 3.3, 1.4, 0.2],\n",
       "       [7. , 3.2, 4.7, 1.4],\n",
       "       [6.4, 3.2, 4.5, 1.5],\n",
       "       [6.9, 3.1, 4.9, 1.5],\n",
       "       [5.5, 2.3, 4. , 1.3],\n",
       "       [6.5, 2.8, 4.6, 1.5],\n",
       "       [5.7, 2.8, 4.5, 1.3],\n",
       "       [6.3, 3.3, 4.7, 1.6],\n",
       "       [4.9, 2.4, 3.3, 1. ],\n",
       "       [6.6, 2.9, 4.6, 1.3],\n",
       "       [5.2, 2.7, 3.9, 1.4],\n",
       "       [5. , 2. , 3.5, 1. ],\n",
       "       [5.9, 3. , 4.2, 1.5],\n",
       "       [6. , 2.2, 4. , 1. ],\n",
       "       [6.1, 2.9, 4.7, 1.4],\n",
       "       [5.6, 2.9, 3.6, 1.3],\n",
       "       [6.7, 3.1, 4.4, 1.4],\n",
       "       [5.6, 3. , 4.5, 1.5],\n",
       "       [5.8, 2.7, 4.1, 1. ],\n",
       "       [6.2, 2.2, 4.5, 1.5],\n",
       "       [5.6, 2.5, 3.9, 1.1],\n",
       "       [5.9, 3.2, 4.8, 1.8],\n",
       "       [6.1, 2.8, 4. , 1.3],\n",
       "       [6.3, 2.5, 4.9, 1.5],\n",
       "       [6.1, 2.8, 4.7, 1.2],\n",
       "       [6.4, 2.9, 4.3, 1.3],\n",
       "       [6.6, 3. , 4.4, 1.4],\n",
       "       [6.8, 2.8, 4.8, 1.4],\n",
       "       [6.7, 3. , 5. , 1.7],\n",
       "       [6. , 2.9, 4.5, 1.5],\n",
       "       [5.7, 2.6, 3.5, 1. ],\n",
       "       [5.5, 2.4, 3.8, 1.1],\n",
       "       [5.5, 2.4, 3.7, 1. ],\n",
       "       [5.8, 2.7, 3.9, 1.2],\n",
       "       [6. , 2.7, 5.1, 1.6],\n",
       "       [5.4, 3. , 4.5, 1.5],\n",
       "       [6. , 3.4, 4.5, 1.6],\n",
       "       [6.7, 3.1, 4.7, 1.5],\n",
       "       [6.3, 2.3, 4.4, 1.3],\n",
       "       [5.6, 3. , 4.1, 1.3],\n",
       "       [5.5, 2.5, 4. , 1.3],\n",
       "       [5.5, 2.6, 4.4, 1.2],\n",
       "       [6.1, 3. , 4.6, 1.4],\n",
       "       [5.8, 2.6, 4. , 1.2],\n",
       "       [5. , 2.3, 3.3, 1. ],\n",
       "       [5.6, 2.7, 4.2, 1.3],\n",
       "       [5.7, 3. , 4.2, 1.2],\n",
       "       [5.7, 2.9, 4.2, 1.3],\n",
       "       [6.2, 2.9, 4.3, 1.3],\n",
       "       [5.1, 2.5, 3. , 1.1],\n",
       "       [5.7, 2.8, 4.1, 1.3],\n",
       "       [6.3, 3.3, 6. , 2.5],\n",
       "       [5.8, 2.7, 5.1, 1.9],\n",
       "       [7.1, 3. , 5.9, 2.1],\n",
       "       [6.3, 2.9, 5.6, 1.8],\n",
       "       [6.5, 3. , 5.8, 2.2],\n",
       "       [7.6, 3. , 6.6, 2.1],\n",
       "       [4.9, 2.5, 4.5, 1.7],\n",
       "       [7.3, 2.9, 6.3, 1.8],\n",
       "       [6.7, 2.5, 5.8, 1.8],\n",
       "       [7.2, 3.6, 6.1, 2.5],\n",
       "       [6.5, 3.2, 5.1, 2. ],\n",
       "       [6.4, 2.7, 5.3, 1.9],\n",
       "       [6.8, 3. , 5.5, 2.1],\n",
       "       [5.7, 2.5, 5. , 2. ],\n",
       "       [5.8, 2.8, 5.1, 2.4],\n",
       "       [6.4, 3.2, 5.3, 2.3],\n",
       "       [6.5, 3. , 5.5, 1.8],\n",
       "       [7.7, 3.8, 6.7, 2.2],\n",
       "       [7.7, 2.6, 6.9, 2.3],\n",
       "       [6. , 2.2, 5. , 1.5],\n",
       "       [6.9, 3.2, 5.7, 2.3],\n",
       "       [5.6, 2.8, 4.9, 2. ],\n",
       "       [7.7, 2.8, 6.7, 2. ],\n",
       "       [6.3, 2.7, 4.9, 1.8],\n",
       "       [6.7, 3.3, 5.7, 2.1],\n",
       "       [7.2, 3.2, 6. , 1.8],\n",
       "       [6.2, 2.8, 4.8, 1.8],\n",
       "       [6.1, 3. , 4.9, 1.8],\n",
       "       [6.4, 2.8, 5.6, 2.1],\n",
       "       [7.2, 3. , 5.8, 1.6],\n",
       "       [7.4, 2.8, 6.1, 1.9],\n",
       "       [7.9, 3.8, 6.4, 2. ],\n",
       "       [6.4, 2.8, 5.6, 2.2],\n",
       "       [6.3, 2.8, 5.1, 1.5],\n",
       "       [6.1, 2.6, 5.6, 1.4],\n",
       "       [7.7, 3. , 6.1, 2.3],\n",
       "       [6.3, 3.4, 5.6, 2.4],\n",
       "       [6.4, 3.1, 5.5, 1.8],\n",
       "       [6. , 3. , 4.8, 1.8],\n",
       "       [6.9, 3.1, 5.4, 2.1],\n",
       "       [6.7, 3.1, 5.6, 2.4],\n",
       "       [6.9, 3.1, 5.1, 2.3],\n",
       "       [5.8, 2.7, 5.1, 1.9],\n",
       "       [6.8, 3.2, 5.9, 2.3],\n",
       "       [6.7, 3.3, 5.7, 2.5],\n",
       "       [6.7, 3. , 5.2, 2.3],\n",
       "       [6.3, 2.5, 5. , 1.9],\n",
       "       [6.5, 3. , 5.2, 2. ],\n",
       "       [6.2, 3.4, 5.4, 2.3],\n",
       "       [5.9, 3. , 5.1, 1.8]])"
      ]
     },
     "execution_count": 11,
     "metadata": {},
     "output_type": "execute_result"
    }
   ],
   "source": [
    "X"
   ]
  },
  {
   "cell_type": "code",
   "execution_count": 13,
   "id": "1fb59413",
   "metadata": {
    "colab": {
     "base_uri": "https://localhost:8080/"
    },
    "executionInfo": {
     "elapsed": 211,
     "status": "ok",
     "timestamp": 1673565473612,
     "user": {
      "displayName": "Alexander Thomas Ihler",
      "userId": "06127274894773240686"
     },
     "user_tz": 480
    },
    "id": "znj1LMx7Rfqp",
    "outputId": "8cfbbfef-663c-44a8-9612-af63a5f60c5b"
   },
   "outputs": [
    {
     "data": {
      "text/plain": [
       "array([0, 0, 0, 0, 0, 0, 0, 0, 0, 0, 0, 0, 0, 0, 0, 0, 0, 0, 0, 0, 0, 0,\n",
       "       0, 0, 0, 0, 0, 0, 0, 0, 0, 0, 0, 0, 0, 0, 0, 0, 0, 0, 0, 0, 0, 0,\n",
       "       0, 0, 0, 0, 0, 0, 1, 1, 1, 1, 1, 1, 1, 1, 1, 1, 1, 1, 1, 1, 1, 1,\n",
       "       1, 1, 1, 1, 1, 1, 1, 1, 1, 1, 1, 1, 1, 1, 1, 1, 1, 1, 1, 1, 1, 1,\n",
       "       1, 1, 1, 1, 1, 1, 1, 1, 1, 1, 1, 1, 2, 2, 2, 2, 2, 2, 2, 2, 2, 2,\n",
       "       2, 2, 2, 2, 2, 2, 2, 2, 2, 2, 2, 2, 2, 2, 2, 2, 2, 2, 2, 2, 2, 2,\n",
       "       2, 2, 2, 2, 2, 2, 2, 2, 2, 2, 2, 2, 2, 2, 2, 2, 2, 2])"
      ]
     },
     "execution_count": 13,
     "metadata": {},
     "output_type": "execute_result"
    }
   ],
   "source": [
    "y"
   ]
  },
  {
   "cell_type": "markdown",
   "id": "18331d2f",
   "metadata": {
    "id": "7nXKrSRkRfqq"
   },
   "source": [
    "#### Shape\n",
    "We can see the shape of a numpy array by using `.shape`. Here, we see that `X` is a numpy array with 150 rows and 4 columns, and `y` is a numpy array with 150 entries.\n"
   ]
  },
  {
   "cell_type": "code",
   "execution_count": 15,
   "id": "63c0fe16",
   "metadata": {
    "colab": {
     "base_uri": "https://localhost:8080/"
    },
    "executionInfo": {
     "elapsed": 185,
     "status": "ok",
     "timestamp": 1673565476884,
     "user": {
      "displayName": "Alexander Thomas Ihler",
      "userId": "06127274894773240686"
     },
     "user_tz": 480
    },
    "id": "oEaVpr8eRfqq",
    "outputId": "1f745f46-9287-416d-bc83-ae7c124af630"
   },
   "outputs": [
    {
     "data": {
      "text/plain": [
       "(150, 4)"
      ]
     },
     "execution_count": 15,
     "metadata": {},
     "output_type": "execute_result"
    }
   ],
   "source": [
    "X.shape"
   ]
  },
  {
   "cell_type": "code",
   "execution_count": 17,
   "id": "1864b6b7",
   "metadata": {
    "colab": {
     "base_uri": "https://localhost:8080/"
    },
    "executionInfo": {
     "elapsed": 7,
     "status": "ok",
     "timestamp": 1673565477453,
     "user": {
      "displayName": "Alexander Thomas Ihler",
      "userId": "06127274894773240686"
     },
     "user_tz": 480
    },
    "id": "We1QlNd7Rfqr",
    "outputId": "29309927-ddec-467b-8cca-9eb79462039d"
   },
   "outputs": [
    {
     "data": {
      "text/plain": [
       "(150,)"
      ]
     },
     "execution_count": 17,
     "metadata": {},
     "output_type": "execute_result"
    }
   ],
   "source": [
    "y.shape"
   ]
  },
  {
   "cell_type": "markdown",
   "id": "e8f2f3e4",
   "metadata": {
    "id": "1JUOFpiJRfqs"
   },
   "source": [
    "#### Indexing.\n",
    "\n",
    "We can access specific elements of numpy arrays by *indexing*. There's various ways of doing this, each of which is useful in different situations. It is important to be familiar with all of these.\n",
    "\n",
    "##### Basic Indexing.\n",
    "\n",
    "The simplest way of indexing a numpy array is by specifying integers corresponding to which entry we want. We can also access particular rows/columns of our numpy array."
   ]
  },
  {
   "cell_type": "code",
   "execution_count": 8,
   "id": "d6fdbcf2",
   "metadata": {
    "colab": {
     "base_uri": "https://localhost:8080/"
    },
    "executionInfo": {
     "elapsed": 5,
     "status": "ok",
     "timestamp": 1673565478585,
     "user": {
      "displayName": "Alexander Thomas Ihler",
      "userId": "06127274894773240686"
     },
     "user_tz": 480
    },
    "id": "uAt_rvvtRfqt",
    "outputId": "7240f3f7-302e-48e6-bd91-88ae7d14ffe7"
   },
   "outputs": [
    {
     "data": {
      "text/plain": [
       "1.4"
      ]
     },
     "execution_count": 8,
     "metadata": {},
     "output_type": "execute_result"
    }
   ],
   "source": [
    "# Gets the entry of X in row 1 and column 2 -- remember that Python is zero-indexed!\n",
    "X[1, 2]"
   ]
  },
  {
   "cell_type": "code",
   "execution_count": 9,
   "id": "c255cf38",
   "metadata": {
    "colab": {
     "base_uri": "https://localhost:8080/"
    },
    "executionInfo": {
     "elapsed": 325,
     "status": "ok",
     "timestamp": 1673565479676,
     "user": {
      "displayName": "Alexander Thomas Ihler",
      "userId": "06127274894773240686"
     },
     "user_tz": 480
    },
    "id": "z6O2GDumRfqt",
    "outputId": "c45e9603-4712-45ac-9dd5-4a08099f851d"
   },
   "outputs": [
    {
     "data": {
      "text/plain": [
       "0"
      ]
     },
     "execution_count": 9,
     "metadata": {},
     "output_type": "execute_result"
    }
   ],
   "source": [
    "# Gets the 7th entry of y\n",
    "y[6]"
   ]
  },
  {
   "cell_type": "code",
   "execution_count": 10,
   "id": "a054e08e",
   "metadata": {
    "colab": {
     "base_uri": "https://localhost:8080/"
    },
    "executionInfo": {
     "elapsed": 341,
     "status": "ok",
     "timestamp": 1673565480377,
     "user": {
      "displayName": "Alexander Thomas Ihler",
      "userId": "06127274894773240686"
     },
     "user_tz": 480
    },
    "id": "C9Hyckl7Rfqu",
    "outputId": "c5758bbd-242a-4d47-d5e2-e93b6c548042"
   },
   "outputs": [
    {
     "data": {
      "text/plain": [
       "array([5.1, 3.5, 1.4, 0.2])"
      ]
     },
     "execution_count": 10,
     "metadata": {},
     "output_type": "execute_result"
    }
   ],
   "source": [
    "# Get the first row of X\n",
    "X[0, :]  # Or just X[0] would also work"
   ]
  },
  {
   "cell_type": "markdown",
   "id": "bb74c090",
   "metadata": {},
   "source": [
    "Typical python \"slicing\" allows us to access entire rows or columns:"
   ]
  },
  {
   "cell_type": "code",
   "execution_count": 11,
   "id": "d5d9c9c5",
   "metadata": {
    "colab": {
     "base_uri": "https://localhost:8080/"
    },
    "executionInfo": {
     "elapsed": 166,
     "status": "ok",
     "timestamp": 1673565480815,
     "user": {
      "displayName": "Alexander Thomas Ihler",
      "userId": "06127274894773240686"
     },
     "user_tz": 480
    },
    "id": "E7Q28HiWRfqv",
    "outputId": "7c6eb7fe-18d9-4b3c-e42c-a69a32b638c8"
   },
   "outputs": [
    {
     "data": {
      "text/plain": [
       "array([5.1, 4.9, 4.7, 4.6, 5. , 5.4, 4.6, 5. , 4.4, 4.9, 5.4, 4.8, 4.8,\n",
       "       4.3, 5.8, 5.7, 5.4, 5.1, 5.7, 5.1, 5.4, 5.1, 4.6, 5.1, 4.8, 5. ,\n",
       "       5. , 5.2, 5.2, 4.7, 4.8, 5.4, 5.2, 5.5, 4.9, 5. , 5.5, 4.9, 4.4,\n",
       "       5.1, 5. , 4.5, 4.4, 5. , 5.1, 4.8, 5.1, 4.6, 5.3, 5. , 7. , 6.4,\n",
       "       6.9, 5.5, 6.5, 5.7, 6.3, 4.9, 6.6, 5.2, 5. , 5.9, 6. , 6.1, 5.6,\n",
       "       6.7, 5.6, 5.8, 6.2, 5.6, 5.9, 6.1, 6.3, 6.1, 6.4, 6.6, 6.8, 6.7,\n",
       "       6. , 5.7, 5.5, 5.5, 5.8, 6. , 5.4, 6. , 6.7, 6.3, 5.6, 5.5, 5.5,\n",
       "       6.1, 5.8, 5. , 5.6, 5.7, 5.7, 6.2, 5.1, 5.7, 6.3, 5.8, 7.1, 6.3,\n",
       "       6.5, 7.6, 4.9, 7.3, 6.7, 7.2, 6.5, 6.4, 6.8, 5.7, 5.8, 6.4, 6.5,\n",
       "       7.7, 7.7, 6. , 6.9, 5.6, 7.7, 6.3, 6.7, 7.2, 6.2, 6.1, 6.4, 7.2,\n",
       "       7.4, 7.9, 6.4, 6.3, 6.1, 7.7, 6.3, 6.4, 6. , 6.9, 6.7, 6.9, 5.8,\n",
       "       6.8, 6.7, 6.7, 6.3, 6.5, 6.2, 5.9])"
      ]
     },
     "execution_count": 11,
     "metadata": {},
     "output_type": "execute_result"
    }
   ],
   "source": [
    "# Get the first column of X\n",
    "X[:, 0]"
   ]
  },
  {
   "cell_type": "markdown",
   "id": "d39741dd",
   "metadata": {
    "id": "9BbMQto9Rfqv"
   },
   "source": [
    "##### Setting elements of an array.\n",
    "\n",
    "Using indexing, we can set the value of a specific element in a numpy array."
   ]
  },
  {
   "cell_type": "code",
   "execution_count": 21,
   "id": "00564213",
   "metadata": {
    "id": "wfylrVS8Rfqw"
   },
   "outputs": [],
   "source": [
    "# Sets the 6th entry of y to 1\n",
    "y[6] = 1 "
   ]
  },
  {
   "cell_type": "code",
   "execution_count": 23,
   "id": "59611191",
   "metadata": {
    "colab": {
     "base_uri": "https://localhost:8080/"
    },
    "executionInfo": {
     "elapsed": 5,
     "status": "ok",
     "timestamp": 1673565483700,
     "user": {
      "displayName": "Alexander Thomas Ihler",
      "userId": "06127274894773240686"
     },
     "user_tz": 480
    },
    "id": "qYSB9_d9Rfqw",
    "outputId": "92fef436-e4ff-4370-a156-4fe704edeb35"
   },
   "outputs": [
    {
     "data": {
      "text/plain": [
       "1"
      ]
     },
     "execution_count": 23,
     "metadata": {},
     "output_type": "execute_result"
    }
   ],
   "source": [
    "y[6]"
   ]
  },
  {
   "cell_type": "markdown",
   "id": "8bf8408c",
   "metadata": {
    "id": "SkyuXu_VRfqx"
   },
   "source": [
    "##### Indexing by Slicing.\n",
    "\n",
    "Slicing lets us access multiple contiguous rows/columns."
   ]
  },
  {
   "cell_type": "code",
   "execution_count": 14,
   "id": "7b4b6296",
   "metadata": {
    "colab": {
     "base_uri": "https://localhost:8080/"
    },
    "executionInfo": {
     "elapsed": 165,
     "status": "ok",
     "timestamp": 1673565485397,
     "user": {
      "displayName": "Alexander Thomas Ihler",
      "userId": "06127274894773240686"
     },
     "user_tz": 480
    },
    "id": "3Uxni00ARfqy",
    "outputId": "d350aa2d-2e39-4dcc-c466-1cbfbea3ceb1"
   },
   "outputs": [
    {
     "data": {
      "text/plain": [
       "array([[5.1, 3.5, 1.4, 0.2],\n",
       "       [4.9, 3. , 1.4, 0.2],\n",
       "       [4.7, 3.2, 1.3, 0.2]])"
      ]
     },
     "execution_count": 14,
     "metadata": {},
     "output_type": "execute_result"
    }
   ],
   "source": [
    "# Get the first 3 rows of X\n",
    "X[:3, :]"
   ]
  },
  {
   "cell_type": "code",
   "execution_count": 15,
   "id": "54a1775d",
   "metadata": {
    "colab": {
     "base_uri": "https://localhost:8080/"
    },
    "executionInfo": {
     "elapsed": 15,
     "status": "ok",
     "timestamp": 1673565485863,
     "user": {
      "displayName": "Alexander Thomas Ihler",
      "userId": "06127274894773240686"
     },
     "user_tz": 480
    },
    "id": "NIIHac2URfqz",
    "outputId": "f4b0418b-113b-4341-eb8c-58dd0f86db35"
   },
   "outputs": [
    {
     "data": {
      "text/plain": [
       "array([[5.4, 3.9, 1.7, 0.4],\n",
       "       [4.6, 3.4, 1.4, 0.3],\n",
       "       [5. , 3.4, 1.5, 0.2]])"
      ]
     },
     "execution_count": 15,
     "metadata": {},
     "output_type": "execute_result"
    }
   ],
   "source": [
    "# Get rows 5, 6, 7 -- note row 8 is not included\n",
    "X[5:8, :]"
   ]
  },
  {
   "cell_type": "code",
   "execution_count": 16,
   "id": "db6fd63e",
   "metadata": {
    "colab": {
     "base_uri": "https://localhost:8080/"
    },
    "executionInfo": {
     "elapsed": 166,
     "status": "ok",
     "timestamp": 1673565486886,
     "user": {
      "displayName": "Alexander Thomas Ihler",
      "userId": "06127274894773240686"
     },
     "user_tz": 480
    },
    "id": "AMhbqEFCRfqz",
    "outputId": "4d191fba-2dd8-4dd3-e0b8-30cde0d997e3"
   },
   "outputs": [
    {
     "data": {
      "text/plain": [
       "array([[3.9, 1.7],\n",
       "       [3.4, 1.4],\n",
       "       [3.4, 1.5]])"
      ]
     },
     "execution_count": 16,
     "metadata": {},
     "output_type": "execute_result"
    }
   ],
   "source": [
    "# Get rows 5, 6, 7 of X and columns 1, 2\n",
    "X[5:8, 1:3]"
   ]
  },
  {
   "cell_type": "markdown",
   "id": "6a0d486f",
   "metadata": {
    "id": "QK_RR1ebRfq0"
   },
   "source": [
    "##### Negative Indexing.\n",
    "\n",
    "You can also use negative indexes to count from the end of the array."
   ]
  },
  {
   "cell_type": "code",
   "execution_count": 25,
   "id": "9b3f35ab",
   "metadata": {
    "colab": {
     "base_uri": "https://localhost:8080/"
    },
    "executionInfo": {
     "elapsed": 14,
     "status": "ok",
     "timestamp": 1673565490607,
     "user": {
      "displayName": "Alexander Thomas Ihler",
      "userId": "06127274894773240686"
     },
     "user_tz": 480
    },
    "id": "HjD4yxXuRfq0",
    "outputId": "b3673582-02a0-4279-cacd-bbc0c612c284",
    "scrolled": true
   },
   "outputs": [
    {
     "data": {
      "text/plain": [
       "array([5.9, 3. , 5.1, 1.8])"
      ]
     },
     "execution_count": 25,
     "metadata": {},
     "output_type": "execute_result"
    }
   ],
   "source": [
    "X[-1, :]   # Get the last row"
   ]
  },
  {
   "cell_type": "code",
   "execution_count": 18,
   "id": "801bb72e",
   "metadata": {
    "colab": {
     "base_uri": "https://localhost:8080/"
    },
    "executionInfo": {
     "elapsed": 7,
     "status": "ok",
     "timestamp": 1673565491355,
     "user": {
      "displayName": "Alexander Thomas Ihler",
      "userId": "06127274894773240686"
     },
     "user_tz": 480
    },
    "id": "KQcYVmODRfq0",
    "outputId": "62830faf-fc14-412d-fbea-bf1674cf837a"
   },
   "outputs": [
    {
     "data": {
      "text/plain": [
       "array([[6.2, 3.4, 5.4, 2.3],\n",
       "       [5.9, 3. , 5.1, 1.8]])"
      ]
     },
     "execution_count": 18,
     "metadata": {},
     "output_type": "execute_result"
    }
   ],
   "source": [
    "X[-2:, :]  # Get the last two rows"
   ]
  },
  {
   "cell_type": "code",
   "execution_count": 27,
   "id": "3ade9784",
   "metadata": {
    "colab": {
     "base_uri": "https://localhost:8080/"
    },
    "executionInfo": {
     "elapsed": 171,
     "status": "ok",
     "timestamp": 1673565506942,
     "user": {
      "displayName": "Alexander Thomas Ihler",
      "userId": "06127274894773240686"
     },
     "user_tz": 480
    },
    "id": "RqrVsaUgRfq1",
    "outputId": "f19c24c4-0c4e-4d7b-e450-b1ca4b405216"
   },
   "outputs": [
    {
     "data": {
      "text/plain": [
       "array([[5.1, 3.5, 1.4],\n",
       "       [4.9, 3. , 1.4],\n",
       "       [4.7, 3.2, 1.3],\n",
       "       [4.6, 3.1, 1.5],\n",
       "       [5. , 3.6, 1.4],\n",
       "       [5.4, 3.9, 1.7],\n",
       "       [4.6, 3.4, 1.4],\n",
       "       [5. , 3.4, 1.5],\n",
       "       [4.4, 2.9, 1.4],\n",
       "       [4.9, 3.1, 1.5],\n",
       "       [5.4, 3.7, 1.5],\n",
       "       [4.8, 3.4, 1.6],\n",
       "       [4.8, 3. , 1.4],\n",
       "       [4.3, 3. , 1.1],\n",
       "       [5.8, 4. , 1.2],\n",
       "       [5.7, 4.4, 1.5],\n",
       "       [5.4, 3.9, 1.3],\n",
       "       [5.1, 3.5, 1.4],\n",
       "       [5.7, 3.8, 1.7],\n",
       "       [5.1, 3.8, 1.5],\n",
       "       [5.4, 3.4, 1.7],\n",
       "       [5.1, 3.7, 1.5],\n",
       "       [4.6, 3.6, 1. ],\n",
       "       [5.1, 3.3, 1.7],\n",
       "       [4.8, 3.4, 1.9],\n",
       "       [5. , 3. , 1.6],\n",
       "       [5. , 3.4, 1.6],\n",
       "       [5.2, 3.5, 1.5],\n",
       "       [5.2, 3.4, 1.4],\n",
       "       [4.7, 3.2, 1.6],\n",
       "       [4.8, 3.1, 1.6],\n",
       "       [5.4, 3.4, 1.5],\n",
       "       [5.2, 4.1, 1.5],\n",
       "       [5.5, 4.2, 1.4],\n",
       "       [4.9, 3.1, 1.5],\n",
       "       [5. , 3.2, 1.2],\n",
       "       [5.5, 3.5, 1.3],\n",
       "       [4.9, 3.6, 1.4],\n",
       "       [4.4, 3. , 1.3],\n",
       "       [5.1, 3.4, 1.5],\n",
       "       [5. , 3.5, 1.3],\n",
       "       [4.5, 2.3, 1.3],\n",
       "       [4.4, 3.2, 1.3],\n",
       "       [5. , 3.5, 1.6],\n",
       "       [5.1, 3.8, 1.9],\n",
       "       [4.8, 3. , 1.4],\n",
       "       [5.1, 3.8, 1.6],\n",
       "       [4.6, 3.2, 1.4],\n",
       "       [5.3, 3.7, 1.5],\n",
       "       [5. , 3.3, 1.4],\n",
       "       [7. , 3.2, 4.7],\n",
       "       [6.4, 3.2, 4.5],\n",
       "       [6.9, 3.1, 4.9],\n",
       "       [5.5, 2.3, 4. ],\n",
       "       [6.5, 2.8, 4.6],\n",
       "       [5.7, 2.8, 4.5],\n",
       "       [6.3, 3.3, 4.7],\n",
       "       [4.9, 2.4, 3.3],\n",
       "       [6.6, 2.9, 4.6],\n",
       "       [5.2, 2.7, 3.9],\n",
       "       [5. , 2. , 3.5],\n",
       "       [5.9, 3. , 4.2],\n",
       "       [6. , 2.2, 4. ],\n",
       "       [6.1, 2.9, 4.7],\n",
       "       [5.6, 2.9, 3.6],\n",
       "       [6.7, 3.1, 4.4],\n",
       "       [5.6, 3. , 4.5],\n",
       "       [5.8, 2.7, 4.1],\n",
       "       [6.2, 2.2, 4.5],\n",
       "       [5.6, 2.5, 3.9],\n",
       "       [5.9, 3.2, 4.8],\n",
       "       [6.1, 2.8, 4. ],\n",
       "       [6.3, 2.5, 4.9],\n",
       "       [6.1, 2.8, 4.7],\n",
       "       [6.4, 2.9, 4.3],\n",
       "       [6.6, 3. , 4.4],\n",
       "       [6.8, 2.8, 4.8],\n",
       "       [6.7, 3. , 5. ],\n",
       "       [6. , 2.9, 4.5],\n",
       "       [5.7, 2.6, 3.5],\n",
       "       [5.5, 2.4, 3.8],\n",
       "       [5.5, 2.4, 3.7],\n",
       "       [5.8, 2.7, 3.9],\n",
       "       [6. , 2.7, 5.1],\n",
       "       [5.4, 3. , 4.5],\n",
       "       [6. , 3.4, 4.5],\n",
       "       [6.7, 3.1, 4.7],\n",
       "       [6.3, 2.3, 4.4],\n",
       "       [5.6, 3. , 4.1],\n",
       "       [5.5, 2.5, 4. ],\n",
       "       [5.5, 2.6, 4.4],\n",
       "       [6.1, 3. , 4.6],\n",
       "       [5.8, 2.6, 4. ],\n",
       "       [5. , 2.3, 3.3],\n",
       "       [5.6, 2.7, 4.2],\n",
       "       [5.7, 3. , 4.2],\n",
       "       [5.7, 2.9, 4.2],\n",
       "       [6.2, 2.9, 4.3],\n",
       "       [5.1, 2.5, 3. ],\n",
       "       [5.7, 2.8, 4.1],\n",
       "       [6.3, 3.3, 6. ],\n",
       "       [5.8, 2.7, 5.1],\n",
       "       [7.1, 3. , 5.9],\n",
       "       [6.3, 2.9, 5.6],\n",
       "       [6.5, 3. , 5.8],\n",
       "       [7.6, 3. , 6.6],\n",
       "       [4.9, 2.5, 4.5],\n",
       "       [7.3, 2.9, 6.3],\n",
       "       [6.7, 2.5, 5.8],\n",
       "       [7.2, 3.6, 6.1],\n",
       "       [6.5, 3.2, 5.1],\n",
       "       [6.4, 2.7, 5.3],\n",
       "       [6.8, 3. , 5.5],\n",
       "       [5.7, 2.5, 5. ],\n",
       "       [5.8, 2.8, 5.1],\n",
       "       [6.4, 3.2, 5.3],\n",
       "       [6.5, 3. , 5.5],\n",
       "       [7.7, 3.8, 6.7],\n",
       "       [7.7, 2.6, 6.9],\n",
       "       [6. , 2.2, 5. ],\n",
       "       [6.9, 3.2, 5.7],\n",
       "       [5.6, 2.8, 4.9],\n",
       "       [7.7, 2.8, 6.7],\n",
       "       [6.3, 2.7, 4.9],\n",
       "       [6.7, 3.3, 5.7],\n",
       "       [7.2, 3.2, 6. ],\n",
       "       [6.2, 2.8, 4.8],\n",
       "       [6.1, 3. , 4.9],\n",
       "       [6.4, 2.8, 5.6],\n",
       "       [7.2, 3. , 5.8],\n",
       "       [7.4, 2.8, 6.1],\n",
       "       [7.9, 3.8, 6.4],\n",
       "       [6.4, 2.8, 5.6],\n",
       "       [6.3, 2.8, 5.1],\n",
       "       [6.1, 2.6, 5.6],\n",
       "       [7.7, 3. , 6.1],\n",
       "       [6.3, 3.4, 5.6],\n",
       "       [6.4, 3.1, 5.5],\n",
       "       [6. , 3. , 4.8],\n",
       "       [6.9, 3.1, 5.4],\n",
       "       [6.7, 3.1, 5.6],\n",
       "       [6.9, 3.1, 5.1],\n",
       "       [5.8, 2.7, 5.1],\n",
       "       [6.8, 3.2, 5.9],\n",
       "       [6.7, 3.3, 5.7],\n",
       "       [6.7, 3. , 5.2],\n",
       "       [6.3, 2.5, 5. ],\n",
       "       [6.5, 3. , 5.2],\n",
       "       [6.2, 3.4, 5.4],\n",
       "       [5.9, 3. , 5.1]])"
      ]
     },
     "execution_count": 27,
     "metadata": {},
     "output_type": "execute_result"
    }
   ],
   "source": [
    "X[:, :-1]  # First three columns"
   ]
  },
  {
   "cell_type": "markdown",
   "id": "74ed7c47",
   "metadata": {
    "id": "YoEKqpZoRfq1"
   },
   "source": [
    "##### Indexing with Arrays.\n",
    "\n",
    "We can also access non-contiguous parts of a numpy array by specifying a list (or numpy array) of integer-valued indexes."
   ]
  },
  {
   "cell_type": "code",
   "execution_count": 20,
   "id": "e6da73aa",
   "metadata": {
    "colab": {
     "base_uri": "https://localhost:8080/"
    },
    "executionInfo": {
     "elapsed": 195,
     "status": "ok",
     "timestamp": 1673565536605,
     "user": {
      "displayName": "Alexander Thomas Ihler",
      "userId": "06127274894773240686"
     },
     "user_tz": 480
    },
    "id": "3uzmyzYxRfq2",
    "outputId": "c00a4f48-b59f-469c-ee6b-882853b715f0"
   },
   "outputs": [
    {
     "data": {
      "text/plain": [
       "array([[4.9, 3. , 1.4, 0.2],\n",
       "       [5.4, 3.9, 1.7, 0.4],\n",
       "       [4.9, 3.1, 1.5, 0.1]])"
      ]
     },
     "execution_count": 20,
     "metadata": {},
     "output_type": "execute_result"
    }
   ],
   "source": [
    "# Gets rows 1, 5, 9 from X\n",
    "rows = [1, 5, 9]\n",
    "X[rows, :]"
   ]
  },
  {
   "cell_type": "code",
   "execution_count": 21,
   "id": "6e81c3ed",
   "metadata": {
    "colab": {
     "base_uri": "https://localhost:8080/"
    },
    "executionInfo": {
     "elapsed": 9,
     "status": "ok",
     "timestamp": 1673565537502,
     "user": {
      "displayName": "Alexander Thomas Ihler",
      "userId": "06127274894773240686"
     },
     "user_tz": 480
    },
    "id": "AaQ3mPH-Rfq2",
    "outputId": "f4223a53-d830-4a65-86d3-08cd6cd4f9ea"
   },
   "outputs": [
    {
     "data": {
      "text/plain": [
       "array([[5.1, 0.2],\n",
       "       [4.9, 0.2],\n",
       "       [4.7, 0.2],\n",
       "       [4.6, 0.2],\n",
       "       [5. , 0.2],\n",
       "       [5.4, 0.4],\n",
       "       [4.6, 0.3],\n",
       "       [5. , 0.2],\n",
       "       [4.4, 0.2],\n",
       "       [4.9, 0.1],\n",
       "       [5.4, 0.2],\n",
       "       [4.8, 0.2],\n",
       "       [4.8, 0.1],\n",
       "       [4.3, 0.1],\n",
       "       [5.8, 0.2],\n",
       "       [5.7, 0.4],\n",
       "       [5.4, 0.4],\n",
       "       [5.1, 0.3],\n",
       "       [5.7, 0.3],\n",
       "       [5.1, 0.3],\n",
       "       [5.4, 0.2],\n",
       "       [5.1, 0.4],\n",
       "       [4.6, 0.2],\n",
       "       [5.1, 0.5],\n",
       "       [4.8, 0.2],\n",
       "       [5. , 0.2],\n",
       "       [5. , 0.4],\n",
       "       [5.2, 0.2],\n",
       "       [5.2, 0.2],\n",
       "       [4.7, 0.2],\n",
       "       [4.8, 0.2],\n",
       "       [5.4, 0.4],\n",
       "       [5.2, 0.1],\n",
       "       [5.5, 0.2],\n",
       "       [4.9, 0.2],\n",
       "       [5. , 0.2],\n",
       "       [5.5, 0.2],\n",
       "       [4.9, 0.1],\n",
       "       [4.4, 0.2],\n",
       "       [5.1, 0.2],\n",
       "       [5. , 0.3],\n",
       "       [4.5, 0.3],\n",
       "       [4.4, 0.2],\n",
       "       [5. , 0.6],\n",
       "       [5.1, 0.4],\n",
       "       [4.8, 0.3],\n",
       "       [5.1, 0.2],\n",
       "       [4.6, 0.2],\n",
       "       [5.3, 0.2],\n",
       "       [5. , 0.2],\n",
       "       [7. , 1.4],\n",
       "       [6.4, 1.5],\n",
       "       [6.9, 1.5],\n",
       "       [5.5, 1.3],\n",
       "       [6.5, 1.5],\n",
       "       [5.7, 1.3],\n",
       "       [6.3, 1.6],\n",
       "       [4.9, 1. ],\n",
       "       [6.6, 1.3],\n",
       "       [5.2, 1.4],\n",
       "       [5. , 1. ],\n",
       "       [5.9, 1.5],\n",
       "       [6. , 1. ],\n",
       "       [6.1, 1.4],\n",
       "       [5.6, 1.3],\n",
       "       [6.7, 1.4],\n",
       "       [5.6, 1.5],\n",
       "       [5.8, 1. ],\n",
       "       [6.2, 1.5],\n",
       "       [5.6, 1.1],\n",
       "       [5.9, 1.8],\n",
       "       [6.1, 1.3],\n",
       "       [6.3, 1.5],\n",
       "       [6.1, 1.2],\n",
       "       [6.4, 1.3],\n",
       "       [6.6, 1.4],\n",
       "       [6.8, 1.4],\n",
       "       [6.7, 1.7],\n",
       "       [6. , 1.5],\n",
       "       [5.7, 1. ],\n",
       "       [5.5, 1.1],\n",
       "       [5.5, 1. ],\n",
       "       [5.8, 1.2],\n",
       "       [6. , 1.6],\n",
       "       [5.4, 1.5],\n",
       "       [6. , 1.6],\n",
       "       [6.7, 1.5],\n",
       "       [6.3, 1.3],\n",
       "       [5.6, 1.3],\n",
       "       [5.5, 1.3],\n",
       "       [5.5, 1.2],\n",
       "       [6.1, 1.4],\n",
       "       [5.8, 1.2],\n",
       "       [5. , 1. ],\n",
       "       [5.6, 1.3],\n",
       "       [5.7, 1.2],\n",
       "       [5.7, 1.3],\n",
       "       [6.2, 1.3],\n",
       "       [5.1, 1.1],\n",
       "       [5.7, 1.3],\n",
       "       [6.3, 2.5],\n",
       "       [5.8, 1.9],\n",
       "       [7.1, 2.1],\n",
       "       [6.3, 1.8],\n",
       "       [6.5, 2.2],\n",
       "       [7.6, 2.1],\n",
       "       [4.9, 1.7],\n",
       "       [7.3, 1.8],\n",
       "       [6.7, 1.8],\n",
       "       [7.2, 2.5],\n",
       "       [6.5, 2. ],\n",
       "       [6.4, 1.9],\n",
       "       [6.8, 2.1],\n",
       "       [5.7, 2. ],\n",
       "       [5.8, 2.4],\n",
       "       [6.4, 2.3],\n",
       "       [6.5, 1.8],\n",
       "       [7.7, 2.2],\n",
       "       [7.7, 2.3],\n",
       "       [6. , 1.5],\n",
       "       [6.9, 2.3],\n",
       "       [5.6, 2. ],\n",
       "       [7.7, 2. ],\n",
       "       [6.3, 1.8],\n",
       "       [6.7, 2.1],\n",
       "       [7.2, 1.8],\n",
       "       [6.2, 1.8],\n",
       "       [6.1, 1.8],\n",
       "       [6.4, 2.1],\n",
       "       [7.2, 1.6],\n",
       "       [7.4, 1.9],\n",
       "       [7.9, 2. ],\n",
       "       [6.4, 2.2],\n",
       "       [6.3, 1.5],\n",
       "       [6.1, 1.4],\n",
       "       [7.7, 2.3],\n",
       "       [6.3, 2.4],\n",
       "       [6.4, 1.8],\n",
       "       [6. , 1.8],\n",
       "       [6.9, 2.1],\n",
       "       [6.7, 2.4],\n",
       "       [6.9, 2.3],\n",
       "       [5.8, 1.9],\n",
       "       [6.8, 2.3],\n",
       "       [6.7, 2.5],\n",
       "       [6.7, 2.3],\n",
       "       [6.3, 1.9],\n",
       "       [6.5, 2. ],\n",
       "       [6.2, 2.3],\n",
       "       [5.9, 1.8]])"
      ]
     },
     "execution_count": 21,
     "metadata": {},
     "output_type": "execute_result"
    }
   ],
   "source": [
    "# Gets first and last column from X\n",
    "cols = [0, -1]\n",
    "X[:, cols]"
   ]
  },
  {
   "cell_type": "markdown",
   "id": "bf80ac3f",
   "metadata": {
    "id": "sQ1Vt6_ZRfq3"
   },
   "source": [
    "##### Logical Indexing.\n",
    "\n",
    "We can perform logical operations on an array, and use the results to index the array -- called logical or boolean indexing:"
   ]
  },
  {
   "cell_type": "code",
   "execution_count": 29,
   "id": "d3962d72",
   "metadata": {
    "id": "VJTK0VcvRfq3"
   },
   "outputs": [],
   "source": [
    "Z = np.random.rand((10))  # A numpy array with 10 random elements"
   ]
  },
  {
   "cell_type": "code",
   "execution_count": 31,
   "id": "420ebfbb",
   "metadata": {
    "colab": {
     "base_uri": "https://localhost:8080/"
    },
    "executionInfo": {
     "elapsed": 7,
     "status": "ok",
     "timestamp": 1673565541356,
     "user": {
      "displayName": "Alexander Thomas Ihler",
      "userId": "06127274894773240686"
     },
     "user_tz": 480
    },
    "id": "1F0ykaqARfq3",
    "outputId": "427e46ab-284f-4395-c383-aff414944edf"
   },
   "outputs": [
    {
     "data": {
      "text/plain": [
       "array([0.95444181, 0.26061436, 0.33869804, 0.06318697, 0.51422086,\n",
       "       0.10392073, 0.85706007, 0.4576641 , 0.33798856, 0.00152676])"
      ]
     },
     "execution_count": 31,
     "metadata": {},
     "output_type": "execute_result"
    }
   ],
   "source": [
    "Z"
   ]
  },
  {
   "cell_type": "code",
   "execution_count": 24,
   "id": "dee43ae5",
   "metadata": {
    "colab": {
     "base_uri": "https://localhost:8080/"
    },
    "executionInfo": {
     "elapsed": 180,
     "status": "ok",
     "timestamp": 1673565549708,
     "user": {
      "displayName": "Alexander Thomas Ihler",
      "userId": "06127274894773240686"
     },
     "user_tz": 480
    },
    "id": "oTSJURfJRfq4",
    "outputId": "3c47661e-d879-4a68-a4f3-197d4cd7eee8"
   },
   "outputs": [
    {
     "data": {
      "text/plain": [
       "array([ True,  True,  True,  True, False, False, False, False, False,\n",
       "       False])"
      ]
     },
     "execution_count": 24,
     "metadata": {},
     "output_type": "execute_result"
    }
   ],
   "source": [
    "Z > 0.5  # Check where entries are larger than 0.5"
   ]
  },
  {
   "cell_type": "code",
   "execution_count": 25,
   "id": "600a72e5",
   "metadata": {
    "colab": {
     "base_uri": "https://localhost:8080/"
    },
    "executionInfo": {
     "elapsed": 149,
     "status": "ok",
     "timestamp": 1673565555901,
     "user": {
      "displayName": "Alexander Thomas Ihler",
      "userId": "06127274894773240686"
     },
     "user_tz": 480
    },
    "id": "TaF7GK0oRfq4",
    "outputId": "f953b9e4-a7ff-4dc6-b102-9c83da58bacd"
   },
   "outputs": [
    {
     "data": {
      "text/plain": [
       "array([0.55705868, 0.9181508 , 0.92534869, 0.75138604])"
      ]
     },
     "execution_count": 25,
     "metadata": {},
     "output_type": "execute_result"
    }
   ],
   "source": [
    "Z[Z > 0.5]  # Get all entries larger than 0.5"
   ]
  },
  {
   "cell_type": "markdown",
   "id": "555316d4",
   "metadata": {
    "id": "VMotnOm7R_b3"
   },
   "source": [
    "Indexing an array with boolean values (such as `Z > 0.5`) selects out the sub-array of elements whose index is ``True``.  On the other hand, indexing an array with a list or array of integers selects out the elements in the order provided by the list.\n",
    "\n",
    "This is often very useful for grabbing subsets of data, for example:"
   ]
  },
  {
   "cell_type": "code",
   "execution_count": 33,
   "id": "e468e823",
   "metadata": {},
   "outputs": [
    {
     "data": {
      "text/plain": [
       "(array([False, False, False, False, False, False, False, False, False,\n",
       "        False, False, False, False, False, False, False, False, False,\n",
       "        False, False, False, False, False, False, False, False, False,\n",
       "        False, False, False, False, False, False, False, False, False,\n",
       "        False, False, False, False, False, False, False, False, False,\n",
       "        False, False, False, False, False, False, False, False, False,\n",
       "        False, False, False, False, False, False, False, False, False,\n",
       "        False, False, False, False, False, False, False, False, False,\n",
       "        False, False, False, False, False, False, False, False, False,\n",
       "        False, False,  True, False, False, False, False, False, False,\n",
       "        False, False, False, False, False, False, False, False, False,\n",
       "        False,  True,  True,  True,  True,  True,  True, False,  True,\n",
       "         True,  True,  True,  True,  True, False,  True,  True,  True,\n",
       "         True,  True, False,  True, False,  True, False,  True,  True,\n",
       "        False, False,  True,  True,  True,  True,  True,  True,  True,\n",
       "         True,  True,  True, False,  True,  True,  True,  True,  True,\n",
       "         True,  True, False,  True,  True,  True]),)"
      ]
     },
     "execution_count": 33,
     "metadata": {},
     "output_type": "execute_result"
    }
   ],
   "source": [
    "big = X[:,2]>5  # which iris flowers have > 5cm petals?\n",
    "big,"
   ]
  },
  {
   "cell_type": "markdown",
   "id": "e9a9bfe5",
   "metadata": {},
   "source": [
    "...from which we can ask, for example, what type (species) of flower were these large-petal examples?"
   ]
  },
  {
   "cell_type": "code",
   "execution_count": 27,
   "id": "fe3a449b",
   "metadata": {},
   "outputs": [
    {
     "data": {
      "text/plain": [
       "array([1, 2, 2, 2, 2, 2, 2, 2, 2, 2, 2, 2, 2, 2, 2, 2, 2, 2, 2, 2, 2, 2,\n",
       "       2, 2, 2, 2, 2, 2, 2, 2, 2, 2, 2, 2, 2, 2, 2, 2, 2, 2, 2, 2])"
      ]
     },
     "execution_count": 27,
     "metadata": {},
     "output_type": "execute_result"
    }
   ],
   "source": [
    "y[big]  # labels (species) of the data with \"big==True\""
   ]
  },
  {
   "cell_type": "markdown",
   "id": "56961996",
   "metadata": {
    "id": "8YHMSnFRRfq5"
   },
   "source": [
    "<center> <img src=\"http://sli.ics.uci.edu/extras/sep.png\" alt=\"--------------------------------------------\" width=\"200px\" height=\"20px\" style=\"width:200px;height:20px;\"/> </center>\n",
    "\n",
    "## Part 3: Questions?"
   ]
  },
  {
   "cell_type": "code",
   "execution_count": null,
   "id": "7324cf89",
   "metadata": {
    "id": "0HERJc4QRfrV"
   },
   "outputs": [],
   "source": []
  },
  {
   "cell_type": "markdown",
   "id": "7e9bcbf7",
   "metadata": {
    "id": "_-tpAXHSRfq5"
   },
   "source": [
    "### Additional Resources\n",
    "If you'd like to read more about Markdown, LaTeX, Jupyter Notebooks, or Python/Numpy, here are some useful resources:\n",
    "- [Markdown Cheatsheet](https://www.markdownguide.org/cheat-sheet/)\n",
    "- [Learn LaTeX in 30 Minutes](https://www.overleaf.com/learn/latex/Learn_LaTeX_in_30_minutes)\n",
    "- [Jupyter Notebook Tutorial](https://www.dataquest.io/blog/jupyter-notebook-tutorial/)\n",
    "- [A More In-Depth Python Tutorial](https://cs231n.github.io/python-numpy-tutorial/)\n",
    "- [Numpy QuickStart](https://numpy.org/doc/stable/user/quickstart.html)\n",
    "- [SciPy Lectures](http://scipy-lectures.org/)"
   ]
  }
 ],
 "metadata": {
  "colab": {
   "provenance": []
  },
  "kernelspec": {
   "display_name": "Python 3 (ipykernel)",
   "language": "python",
   "name": "python3"
  },
  "language_info": {
   "codemirror_mode": {
    "name": "ipython",
    "version": 3
   },
   "file_extension": ".py",
   "mimetype": "text/x-python",
   "name": "python",
   "nbconvert_exporter": "python",
   "pygments_lexer": "ipython3",
   "version": "3.12.4"
  }
 },
 "nbformat": 4,
 "nbformat_minor": 5
}
