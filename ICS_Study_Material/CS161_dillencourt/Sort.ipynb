{
 "cells": [
  {
   "metadata": {},
   "cell_type": "markdown",
   "source": "Selection Sort",
   "id": "7cf1106a7eee772c"
  },
  {
   "cell_type": "code",
   "id": "initial_id",
   "metadata": {
    "collapsed": true,
    "ExecuteTime": {
     "end_time": "2024-10-14T00:37:16.936309Z",
     "start_time": "2024-10-14T00:37:16.930152Z"
    }
   },
   "source": [
    "def selection_sort(A:list):\n",
    "    length = len(A)\n",
    "    for i in range(length): \n",
    "        for j in range(i+1,length):\n",
    "            if A[j]<A[i]:\n",
    "                swap(A,i,j)\n",
    "    return A\n",
    "\n",
    "\n",
    "def swap(A:list,i:int,j:int):\n",
    "    temp = A[i]\n",
    "    A[i] = A[j]\n",
    "    A[j] = temp\n",
    "\n",
    "selection_sort([1,8,9,2,4])"
   ],
   "outputs": [
    {
     "data": {
      "text/plain": [
       "[1, 2, 4, 8, 9]"
      ]
     },
     "execution_count": 4,
     "metadata": {},
     "output_type": "execute_result"
    }
   ],
   "execution_count": 4
  },
  {
   "metadata": {},
   "cell_type": "markdown",
   "source": "Insertion sort",
   "id": "eb9c3f986148c14a"
  },
  {
   "metadata": {
    "ExecuteTime": {
     "end_time": "2024-10-14T00:39:02.625046Z",
     "start_time": "2024-10-14T00:39:02.620722Z"
    }
   },
   "cell_type": "code",
   "source": [
    "import queue\n",
    "def insertion_sort(A:list):\n",
    "    length = len(A)\n",
    "    pq = queue.PriorityQueue()\n",
    "    for i in range(length):\n",
    "        pq.put(A[i],A[i])\n",
    "        \n",
    "    output_A = []\n",
    "    while not pq.empty():\n",
    "        output_A.append(pq.get())\n",
    "    \n",
    "    return output_A\n",
    "    \n",
    "insertion_sort([1,8,9,2,4]) "
   ],
   "id": "8f2abccd55cf243b",
   "outputs": [
    {
     "data": {
      "text/plain": [
       "[1, 2, 4, 8, 9]"
      ]
     },
     "execution_count": 10,
     "metadata": {},
     "output_type": "execute_result"
    }
   ],
   "execution_count": 10
  },
  {
   "metadata": {},
   "cell_type": "markdown",
   "source": "",
   "id": "d12c9c33e7de73c5"
  }
 ],
 "metadata": {
  "kernelspec": {
   "display_name": "Python 3",
   "language": "python",
   "name": "python3"
  },
  "language_info": {
   "codemirror_mode": {
    "name": "ipython",
    "version": 2
   },
   "file_extension": ".py",
   "mimetype": "text/x-python",
   "name": "python",
   "nbconvert_exporter": "python",
   "pygments_lexer": "ipython2",
   "version": "2.7.6"
  }
 },
 "nbformat": 4,
 "nbformat_minor": 5
}
